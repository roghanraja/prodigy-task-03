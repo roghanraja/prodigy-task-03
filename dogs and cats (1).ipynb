{
 "cells": [
  {
   "cell_type": "code",
   "execution_count": 2,
   "id": "6fc2d182",
   "metadata": {},
   "outputs": [],
   "source": [
    "import os\n",
    "import numpy as np\n",
    "import cv2\n",
    "import matplotlib. pyplot as plt\n",
    "import pickle\n",
    "import random\n",
    "from sklearn.model_selection import train_test_split\n",
    "from sklearn.svm import SVC\n"
   ]
  },
  {
   "cell_type": "code",
   "execution_count": 3,
   "id": "d1f3d798",
   "metadata": {},
   "outputs": [
    {
     "name": "stdout",
     "output_type": "stream",
     "text": [
      "24913\n"
     ]
    }
   ],
   "source": [
    "\n",
    "dir = r\"C:\\Users\\Admin\\Desktop\\prodigy\\prodigy_task - 3\\PetImages\"\n",
    "categories= ['Cat', 'Dog']\n",
    "data = []\n",
    "for category in categories:\n",
    "    path = os. path.join(dir, category)\n",
    "    label= categories.index(category)\n",
    "    for img in os.listdir(path):\n",
    "        imgpath = os. path.join(path, img)\n",
    "        pet_img=cv2.imread (imgpath,0)\n",
    "        try:\n",
    "            pet_img=cv2.resize(pet_img, (50,50))\n",
    "            image = np. array(pet_img).flatten()\n",
    "            data.append([image, label])\n",
    "        except Exception as e:\n",
    "            pass\n",
    "        \n",
    "print(len(data))\n"
   ]
  },
  {
   "cell_type": "code",
   "execution_count": 4,
   "id": "9d441828",
   "metadata": {},
   "outputs": [],
   "source": [
    "\n",
    "pick_in = open('data1.pickle', 'wb')\n",
    "pickle.dump(data, pick_in)\n",
    "pick_in.close()\n",
    "\n"
   ]
  },
  {
   "cell_type": "code",
   "execution_count": 5,
   "id": "2c3c8224",
   "metadata": {},
   "outputs": [],
   "source": [
    "pick_in =  open('data1.pickle', 'rb')\n",
    "data = pickle.load(pick_in)\n",
    "pick_in.close()\n",
    "random.shuffle (data)\n",
    "features = [] \n",
    "labels = []\n",
    "for feature,label in data:\n",
    "    features.append(feature)\n",
    "    labels.append(label)\n",
    "xtrain, xtest, ytrain,ytest = train_test_split (features, labels, test_size= 0.01)\n",
    "#model = SVC(C=1, kernel='poly',gamma= 'auto')\n",
    "#model.fit(xtrain, ytrain)\n",
    "pick = open('model.sav', 'rb')\n",
    "model= pickle.load(pick)\n",
    "pick.close()"
   ]
  },
  {
   "cell_type": "code",
   "execution_count": 6,
   "id": "75f662b4",
   "metadata": {},
   "outputs": [
    {
     "name": "stdout",
     "output_type": "stream",
     "text": [
      "Accuracy:  0.592\n",
      "Prediction is :  Cat\n"
     ]
    },
    {
     "data": {
      "image/png": "[encoded data removed]",
      "text/plain": [
       "<Figure size 640x480 with 1 Axes>"
      ]
     },
     "metadata": {},
     "output_type": "display_data"
    }
   ],
   "source": [
    "prediction= model.predict(xtest)\n",
    "accuracy = model.score(xtest,ytest)\n",
    "categories = ['Cat', 'Dog']\n",
    "print('Accuracy: ', accuracy)\n",
    "print('Prediction is : ', categories [prediction [0] ])\n",
    "my_pet = xtest [0].reshape(50,50)\n",
    "plt.imshow (my_pet,cmap='gray')\n",
    "plt.show()"
   ]
  },
  {
   "cell_type": "code",
   "execution_count": null,
   "id": "ce418233",
   "metadata": {},
   "outputs": [],
   "source": []
  }
 ],
 "metadata": {
  "kernelspec": {
   "display_name": "Python 3 (ipykernel)",
   "language": "python",
   "name": "python3"
  },
  "language_info": {
   "codemirror_mode": {
    "name": "ipython",
    "version": 3
   },
   "file_extension": ".py",
   "mimetype": "text/x-python",
   "name": "python",
   "nbconvert_exporter": "python",
   "pygments_lexer": "ipython3",
   "version": "3.10.9"
  }
 },
 "nbformat": 4,
 "nbformat_minor": 5
}
